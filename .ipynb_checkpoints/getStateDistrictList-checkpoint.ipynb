{
 "cells": [
  {
   "cell_type": "code",
   "execution_count": 13,
   "metadata": {
    "collapsed": true
   },
   "outputs": [],
   "source": [
    "from selenium import webdriver\n",
    "from selenium.common.exceptions import StaleElementReferenceException\n",
    "import selenium.webdriver.support.ui as UI\n",
    "import time\n",
    "import json\n",
    "import csv"
   ]
  },
  {
   "cell_type": "code",
   "execution_count": 10,
   "metadata": {
    "collapsed": true
   },
   "outputs": [],
   "source": [
    "driver=webdriver.Chrome()\n",
    "driver.get(\"http://cms.nic.in/ncdrcusersWeb/search.do?method=loadSearchPub\")\n"
   ]
  },
  {
   "cell_type": "markdown",
   "metadata": {},
   "source": [
    "# Optimizing\n",
    "\n",
    "In the below cell, we are basicially giving 0.5s per state to allow the page to load the options. If it does not load, the exception is handled and an additional 3 secs is given to help load it.\n",
    "\n",
    "to better optimize the code, visit http://toddhayton.com/2015/12/11/iterating-through-dynamic-select-options-with-selenium/.\n"
   ]
  },
  {
   "cell_type": "code",
   "execution_count": 3,
   "metadata": {
    "collapsed": true
   },
   "outputs": [],
   "source": [
    "# stateId = driver.find_element_by_id(\"stateId\")\n",
    "# states = stateId.options()\n",
    "\n",
    "stateId = driver.find_element_by_id(\"stateId\")\n",
    "statesList = UI.Select(driver.find_element_by_id(\"stateId\"))\n",
    "states = []\n",
    "\n",
    "for option in statesList.options:\n",
    "        states.append(option.text)\n",
    "districtList = UI.Select(driver.find_element_by_id(\"districtId\"))\n",
    "selectors = {}\n",
    "for s in states:\n",
    "    district = []\n",
    "    stateId.send_keys(s)\n",
    "    time.sleep(0.5)\n",
    "    try:\n",
    "        districtList = UI.Select(driver.find_element_by_id(\"districtId\"))\n",
    "\n",
    "        for option in districtList.options:\n",
    "\n",
    "            district.append(option.text)\n",
    "        selectors[s] = district  \n",
    "    except StaleElementReferenceException:\n",
    "        try:\n",
    "            time.sleep(0.5)\n",
    "            \n",
    "            districtList = UI.Select(driver.find_element_by_id(\"districtId\"))\n",
    "\n",
    "            for option in districtList.options:\n",
    "\n",
    "                district.append(option.text)\n",
    "            selectors[s] = district\n",
    "        except StaleElementReferenceException:\n",
    "            try:\n",
    "                time.sleep(0.5)\n",
    "\n",
    "                districtList = UI.Select(driver.find_element_by_id(\"districtId\"))\n",
    "\n",
    "                for option in districtList.options:\n",
    "\n",
    "                    district.append(option.text)\n",
    "                selectors[s] = district\n",
    "            except StaleElementReferenceException:\n",
    "                try:\n",
    "                    time.sleep(0.5)\n",
    "\n",
    "                    districtList = UI.Select(driver.find_element_by_id(\"districtId\"))\n",
    "\n",
    "                    for option in districtList.options:\n",
    "\n",
    "                        district.append(option.text)\n",
    "                    selectors[s] = district\n",
    "                except StaleElementReferenceException:\n",
    "                    try:\n",
    "                        time.sleep(0.5)\n",
    "\n",
    "                        districtList = UI.Select(driver.find_element_by_id(\"districtId\"))\n",
    "\n",
    "                        for option in districtList.options:\n",
    "\n",
    "                            district.append(option.text)\n",
    "                        selectors[s] = district\n",
    "                    except StaleElementReferenceException:\n",
    "                        try:\n",
    "                            time.sleep(0.5)\n",
    "\n",
    "                            districtList = UI.Select(driver.find_element_by_id(\"districtId\"))\n",
    "\n",
    "                            for option in districtList.options:\n",
    "\n",
    "                                district.append(option.text)\n",
    "                            selectors[s] = district\n",
    "                        except StaleElementReferenceException:\n",
    "                            time.sleep(2)\n",
    "\n",
    "                            districtList = UI.Select(driver.find_element_by_id(\"districtId\"))\n",
    "\n",
    "                            for option in districtList.options:\n",
    "\n",
    "                                district.append(option.text)\n",
    "                            selectors[s] = district\n",
    "    \n",
    "#     districtList = UI.Select(driver.find_element_by_id(\"districtId\"))\n",
    "    \n",
    "#     for option in districtList.options:\n",
    "        \n",
    "#         district.append(option.text)\n",
    "#     selectors[s] = district"
   ]
  },
  {
   "cell_type": "code",
   "execution_count": 9,
   "metadata": {},
   "outputs": [],
   "source": [
    "selectors = json.dumps(selectors)\n",
    "selectors = json.loads(selectors)\n",
    "with open('selectors.json', 'w') as outfile:  \n",
    "    json.dump(selectors, outfile, indent=4)"
   ]
  },
  {
   "cell_type": "code",
   "execution_count": 12,
   "metadata": {},
   "outputs": [
    {
     "data": {
      "text/plain": [
       "['Select',\n",
       " 'Medical',\n",
       " 'Transport',\n",
       " 'Insurance',\n",
       " 'Industries',\n",
       " 'Housing',\n",
       " 'Others',\n",
       " 'Electricity',\n",
       " 'Railways',\n",
       " 'Banking',\n",
       " 'Telecom',\n",
       " 'Airlines',\n",
       " 'Finance',\n",
       " 'E-Commerce',\n",
       " 'Postal',\n",
       " 'Consumer',\n",
       " 'Education',\n",
       " 'Defective Goods',\n",
       " 'Service Deficiency',\n",
       " 'Unfair Trade',\n",
       " 'Immigration',\n",
       " 'Trust',\n",
       " 'Private',\n",
       " 'Government',\n",
       " 'Agriculture',\n",
       " 'Electrical & Electronic Goods',\n",
       " 'Industrial/Commercial Goods & Services',\n",
       " 'Domestic Fuels',\n",
       " 'Contracts',\n",
       " 'Water',\n",
       " 'Automobiles',\n",
       " 'Textiles',\n",
       " 'Tourism',\n",
       " 'Food & Beverages',\n",
       " 'House Hold Goods']"
      ]
     },
     "execution_count": 12,
     "metadata": {},
     "output_type": "execute_result"
    }
   ],
   "source": [
    "searchBy = driver.find_element_by_id(\"searchBy\")\n",
    "searchBy.send_keys(\"Sector\")\n",
    "\n",
    "Sector = UI.Select(driver.find_element_by_id(\"categoryId\"))\n",
    "time.sleep(0.2)\n",
    "# Sector = driver.find_element_by_id(\"categoryId\")\n",
    "sectors = []\n",
    "\n",
    "for option in Sector.options:\n",
    "        sectors.append(option.text)\n",
    "# districtList = UI.Select(driver.find_element_by_id(\"districtId\"))\n",
    "sectors"
   ]
  },
  {
   "cell_type": "code",
   "execution_count": 15,
   "metadata": {},
   "outputs": [],
   "source": [
    "resultFile = open(\"Sectors.csv\",'w')\n",
    "wr = csv.writer(resultFile)\n",
    "wr.writerows([sectors])"
   ]
  },
  {
   "cell_type": "code",
   "execution_count": null,
   "metadata": {
    "collapsed": true
   },
   "outputs": [],
   "source": []
  },
  {
   "cell_type": "code",
   "execution_count": 5,
   "metadata": {
    "collapsed": true
   },
   "outputs": [],
   "source": [
    "driver.quit()"
   ]
  }
 ],
 "metadata": {
  "kernelspec": {
   "display_name": "Python 3",
   "language": "python",
   "name": "python3"
  },
  "language_info": {
   "codemirror_mode": {
    "name": "ipython",
    "version": 3
   },
   "file_extension": ".py",
   "mimetype": "text/x-python",
   "name": "python",
   "nbconvert_exporter": "python",
   "pygments_lexer": "ipython3",
   "version": "3.6.1"
  }
 },
 "nbformat": 4,
 "nbformat_minor": 2
}
