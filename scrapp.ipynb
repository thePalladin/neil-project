{
 "cells": [
  {
   "cell_type": "code",
   "execution_count": 37,
   "metadata": {
    "collapsed": true
   },
   "outputs": [],
   "source": [
    "from selenium import webdriver\n",
    "from selenium.common.exceptions import StaleElementReferenceException\n",
    "import selenium.webdriver.support.ui as UI\n",
    "import time\n",
    "# from selenium.webdriver.support.ui import WebDriverWait\n",
    "\n",
    "\n",
    "import sys\n",
    "import signal"
   ]
  },
  {
   "cell_type": "code",
   "execution_count": 5,
   "metadata": {
    "collapsed": true
   },
   "outputs": [],
   "source": [
    "driver=webdriver.Chrome()\n",
    "driver.get(\"http://cms.nic.in/ncdrcusersWeb/search.do?method=loadSearchPub\")"
   ]
  },
  {
   "cell_type": "code",
   "execution_count": 33,
   "metadata": {
    "collapsed": true
   },
   "outputs": [],
   "source": [
    "stDate = driver.find_element_by_id(\"stDate\")\n",
    "stDate.clear()\n",
    "stDate.send_keys(\"01/01/2002\")\n",
    "endDate = driver.find_element_by_id(\"endDate\")\n",
    "endDate.clear()\n",
    "endDate.send_keys(\"31/12/2002\")\n",
    "dof = driver.find_element_by_id(\"dtof\")\n",
    "dof.click()\n",
    "searchBy = driver.find_element_by_id(\"searchBy\")\n",
    "searchBy.send_keys(\"Sector\")\n"
   ]
  },
  {
   "cell_type": "code",
   "execution_count": 4,
   "metadata": {
    "collapsed": true
   },
   "outputs": [],
   "source": [
    "driver.quit()"
   ]
  }
 ],
 "metadata": {
  "kernelspec": {
   "display_name": "Python 3",
   "language": "python",
   "name": "python3"
  },
  "language_info": {
   "codemirror_mode": {
    "name": "ipython",
    "version": 3
   },
   "file_extension": ".py",
   "mimetype": "text/x-python",
   "name": "python",
   "nbconvert_exporter": "python",
   "pygments_lexer": "ipython3",
   "version": "3.6.1"
  }
 },
 "nbformat": 4,
 "nbformat_minor": 2
}
