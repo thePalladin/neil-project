{
 "cells": [
  {
   "cell_type": "code",
   "execution_count": 1,
   "metadata": {
    "collapsed": true
   },
   "outputs": [],
   "source": [
    "from selenium import webdriver\n",
    "from selenium.common.exceptions import StaleElementReferenceException\n",
    "from selenium.common.exceptions import NoSuchElementException  \n",
    "import selenium.webdriver.support.ui as UI\n",
    "import time\n",
    "import json\n",
    "# from selenium.webdriver.support.ui import WebDriverWait\n",
    "\n",
    "\n",
    "import sys\n",
    "import signal"
   ]
  },
  {
   "cell_type": "code",
   "execution_count": 2,
   "metadata": {
    "collapsed": true
   },
   "outputs": [],
   "source": [
    "driver=webdriver.Chrome()\n",
    "driver.get(\"http://cms.nic.in/ncdrcusersWeb/search.do?method=loadSearchPub\")"
   ]
  },
  {
   "cell_type": "code",
   "execution_count": 3,
   "metadata": {},
   "outputs": [],
   "source": [
    "dof = driver.find_element_by_id(\"dtof\")\n",
    "dof.click()\n",
    "\n",
    "searchBy = driver.find_element_by_id(\"searchBy\")\n",
    "searchBy.send_keys(\"Sector\")\n",
    "time.sleep(0.2)\n",
    "time.sleep(0.2)\n",
    "\n",
    "\n",
    "\n",
    "with open('selectors.json') as json_file:  \n",
    "    area = json.load(json_file)\n",
    "\n",
    "statelist = []\n",
    "\n",
    "for i in area.keys():\n",
    "    statelist.append(i)\n",
    "\n"
   ]
  },
  {
   "cell_type": "code",
   "execution_count": 4,
   "metadata": {},
   "outputs": [],
   "source": [
    "stDate = driver.find_element_by_id(\"stDate\")\n",
    "endDate = driver.find_element_by_id(\"endDate\")\n",
    "\n",
    "# sectorInput = driver.find_element_by_id(\"categoryId\")\n",
    "search = driver.find_element_by_id(\"searchbutton\")\n",
    "\n",
    "\n",
    "Sector = UI.Select(driver.find_element_by_id(\"categoryId\"))                \n",
    "# sectors\n",
    "\n",
    "\n",
    "sectors = []\n",
    "for option in Sector.options:\n",
    "        sectors.append(option.text)\n",
    "sectors = sectors[1:]"
   ]
  },
  {
   "cell_type": "code",
   "execution_count": 5,
   "metadata": {},
   "outputs": [
    {
     "name": "stdout",
     "output_type": "stream",
     "text": [
      "NCDRC\n",
      "NCDRC\n",
      "MedicalExists\n",
      "TransportExists\n",
      "InsuranceExists\n",
      "IndustriesNO\n",
      "HousingExists\n",
      "OthersExists\n",
      "ElectricityExists\n",
      "RailwaysExists\n",
      "BankingExists\n",
      "TelecomExists\n",
      "AirlinesExists\n",
      "FinanceExists\n",
      "E-CommerceNO\n",
      "PostalExists\n",
      "ConsumerNO\n",
      "EducationExists\n",
      "Defective GoodsNO\n",
      "Service DeficiencyNO\n",
      "Unfair TradeNO\n",
      "ImmigrationNO\n",
      "TrustExists\n",
      "PrivateNO\n",
      "GovernmentNO\n",
      "AgricultureNO\n",
      "Electrical & Electronic GoodsNO\n",
      "Industrial/Commercial Goods & ServicesNO\n",
      "Domestic FuelsNO\n",
      "ContractsNO\n",
      "WaterNO\n",
      "AutomobilesNO\n",
      "TextilesNO\n",
      "TourismNO\n",
      "Food & BeveragesNO\n",
      "House Hold GoodsNO\n",
      "Andaman Nicobar\n",
      "StateCommission\n",
      "MedicalExists\n",
      "TransportNO\n",
      "InsuranceNO\n",
      "IndustriesNO\n",
      "HousingNO\n",
      "OthersExists\n",
      "ElectricityNO\n"
     ]
    },
    {
     "ename": "KeyboardInterrupt",
     "evalue": "",
     "output_type": "error",
     "traceback": [
      "\u001b[0;31m---------------------------------------------------------------------------\u001b[0m",
      "\u001b[0;31mKeyboardInterrupt\u001b[0m                         Traceback (most recent call last)",
      "\u001b[0;32m<ipython-input-5-cd3575c3f328>\u001b[0m in \u001b[0;36m<module>\u001b[0;34m()\u001b[0m\n\u001b[1;32m     26\u001b[0m                 \u001b[0mtime\u001b[0m\u001b[0;34m.\u001b[0m\u001b[0msleep\u001b[0m\u001b[0;34m(\u001b[0m\u001b[0;36m2\u001b[0m\u001b[0;34m)\u001b[0m\u001b[0;34m\u001b[0m\u001b[0m\n\u001b[1;32m     27\u001b[0m                 \u001b[0msearch\u001b[0m\u001b[0;34m.\u001b[0m\u001b[0mclick\u001b[0m\u001b[0;34m(\u001b[0m\u001b[0;34m)\u001b[0m\u001b[0;34m\u001b[0m\u001b[0m\n\u001b[0;32m---> 28\u001b[0;31m                 \u001b[0mtime\u001b[0m\u001b[0;34m.\u001b[0m\u001b[0msleep\u001b[0m\u001b[0;34m(\u001b[0m\u001b[0;36m2\u001b[0m\u001b[0;34m)\u001b[0m\u001b[0;34m\u001b[0m\u001b[0m\n\u001b[0m\u001b[1;32m     29\u001b[0m                 \u001b[0;32mtry\u001b[0m\u001b[0;34m:\u001b[0m\u001b[0;34m\u001b[0m\u001b[0m\n\u001b[1;32m     30\u001b[0m                     \u001b[0mtable\u001b[0m \u001b[0;34m=\u001b[0m \u001b[0mdriver\u001b[0m\u001b[0;34m.\u001b[0m\u001b[0mfind_element_by_id\u001b[0m\u001b[0;34m(\u001b[0m\u001b[0;34m\"para1\"\u001b[0m\u001b[0;34m)\u001b[0m\u001b[0;34m\u001b[0m\u001b[0m\n",
      "\u001b[0;31mKeyboardInterrupt\u001b[0m: "
     ]
    }
   ],
   "source": [
    "\n",
    "stateId = UI.Select(driver.find_element_by_id(\"stateId\"))\n",
    "year = 2012\n",
    "time.sleep(3)\n",
    "while year<2019:\n",
    "\n",
    "    stDate.clear()\n",
    "    stDate.send_keys(\"01/01/\"+str(year))\n",
    "    endDate.clear()\n",
    "    endDate.send_keys(\"31/12/\"+str(year))\n",
    "    year = year + 1\n",
    "    for state in statelist:\n",
    "        print(state)\n",
    "#             stateId.clear()\n",
    "        \n",
    "        stateId.select_by_visible_text(state)\n",
    "        time.sleep(0.5)\n",
    "        for district in area[state]:\n",
    "            districtId = UI.Select(driver.find_element_by_id(\"districtId\"))\n",
    "#                 districtId.clear()\n",
    "            print(district)\n",
    "            districtId.select_by_visible_text(district)\n",
    "            time.sleep(0.5)\n",
    "            for sect in sectors:\n",
    "                Sector.select_by_visible_text(sect)\n",
    "                time.sleep(2)\n",
    "                search.click()\n",
    "                time.sleep(2)\n",
    "                try:\n",
    "                    table = driver.find_element_by_id(\"para1\")\n",
    "                    if table.text[0] == 'S':\n",
    "                        print(sect +\"Exists\")\n",
    "                    else:\n",
    "                        print(sect+'NO')\n",
    "                except NoSuchElementException:\n",
    "                        print(sect+\"Does not Exist\")\n",
    "# data\n"
   ]
  },
  {
   "cell_type": "code",
   "execution_count": null,
   "metadata": {},
   "outputs": [],
   "source": [
    "# area.key\n",
    "# search = driver.find_element_by_id(\"searchbutton\")\n",
    "# search.click()\n",
    "# sectorInput.send_keys(sectors[0])\n",
    "# sectors\n",
    "for s in statelist:\n",
    "    print(\"-------------------------------\"+s)\n",
    "    for d in area[s]:\n",
    "        print(d)"
   ]
  },
  {
   "cell_type": "code",
   "execution_count": null,
   "metadata": {},
   "outputs": [],
   "source": [
    "# # for s in statelist:\n",
    "# #     print(\"-------------------\"+s)\n",
    "# #     for d in area[s]:\n",
    "# #         print(d)\n",
    "# # area\n",
    "# try:\n",
    "#     table = driver.find_element_by_tag_name('tbody')\n",
    "#     print(\"Exists\")\n",
    "# except:\n",
    "#     print(\"Does not Exist\")\n",
    "#     # table.text\n",
    "\n",
    "statesList = \n",
    "# statesList.select_by_value(statelist[1])\n",
    "statesList.select_by_visible_text(statelist[0])"
   ]
  },
  {
   "cell_type": "code",
   "execution_count": null,
   "metadata": {
    "collapsed": true
   },
   "outputs": [],
   "source": [
    "driver.quit()"
   ]
  }
 ],
 "metadata": {
  "kernelspec": {
   "display_name": "Python 3",
   "language": "python",
   "name": "python3"
  },
  "language_info": {
   "codemirror_mode": {
    "name": "ipython",
    "version": 3
   },
   "file_extension": ".py",
   "mimetype": "text/x-python",
   "name": "python",
   "nbconvert_exporter": "python",
   "pygments_lexer": "ipython3",
   "version": "3.6.1"
  }
 },
 "nbformat": 4,
 "nbformat_minor": 2
}
