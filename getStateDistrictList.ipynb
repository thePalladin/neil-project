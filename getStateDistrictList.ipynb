{
 "cells": [
  {
   "cell_type": "code",
   "execution_count": 9,
   "metadata": {
    "collapsed": true
   },
   "outputs": [],
   "source": [
    "from selenium import webdriver\n",
    "from selenium.common.exceptions import StaleElementReferenceException\n",
    "import selenium.webdriver.support.ui as UI\n",
    "import time\n",
    "import json\n",
    "import csv"
   ]
  },
  {
   "cell_type": "code",
   "execution_count": 2,
   "metadata": {
    "collapsed": true
   },
   "outputs": [],
   "source": [
    "driver=webdriver.Chrome()\n",
    "driver.get(\"http://cms.nic.in/ncdrcusersWeb/search.do?method=loadSearchPub\")\n"
   ]
  },
  {
   "cell_type": "markdown",
   "metadata": {},
   "source": [
    "# Optimizing\n",
    "\n",
    "In the below cell, we are basicially giving 0.5s per state to allow the page to load the options. If it does not load, the exception is handled and an additional 3 secs is given to help load it.\n",
    "\n",
    "to better optimize the code, visit http://toddhayton.com/2015/12/11/iterating-through-dynamic-select-options-with-selenium/.\n"
   ]
  },
  {
   "cell_type": "code",
   "execution_count": 3,
   "metadata": {
    "collapsed": true
   },
   "outputs": [],
   "source": [
    "# stateId = driver.find_element_by_id(\"stateId\")\n",
    "# states = stateId.options()\n",
    "\n",
    "stateId = driver.find_element_by_id(\"stateId\")\n",
    "statesList = UI.Select(driver.find_element_by_id(\"stateId\"))\n",
    "states = []\n",
    "\n",
    "for option in statesList.options:\n",
    "        if option == \"NCDRC\":\n",
    "            continue\n",
    "        else:\n",
    "            states.append(option.text)\n",
    "districtList = UI.Select(driver.find_element_by_id(\"districtId\"))\n",
    "selectors = {}\n",
    "for s in states:\n",
    "    district = []\n",
    "    stateId.send_keys(s)\n",
    "    time.sleep(4)\n",
    "    try:\n",
    "        districtList = UI.Select(driver.find_element_by_id(\"districtId\"))\n",
    "\n",
    "        for option in districtList.options:\n",
    "\n",
    "            district.append(option.text)\n",
    "        selectors[s] = district  \n",
    "    except StaleElementReferenceException:\n",
    "        try:\n",
    "            time.sleep(0.5)\n",
    "            \n",
    "            districtList = UI.Select(driver.find_element_by_id(\"districtId\"))\n",
    "\n",
    "            for option in districtList.options:\n",
    "\n",
    "                district.append(option.text)\n",
    "            selectors[s] = district\n",
    "        except StaleElementReferenceException:\n",
    "            try:\n",
    "                time.sleep(0.5)\n",
    "\n",
    "                districtList = UI.Select(driver.find_element_by_id(\"districtId\"))\n",
    "\n",
    "                for option in districtList.options:\n",
    "\n",
    "                    district.append(option.text)\n",
    "                selectors[s] = district\n",
    "            except StaleElementReferenceException:\n",
    "                try:\n",
    "                    time.sleep(0.5)\n",
    "\n",
    "                    districtList = UI.Select(driver.find_element_by_id(\"districtId\"))\n",
    "\n",
    "                    for option in districtList.options:\n",
    "\n",
    "                        district.append(option.text)\n",
    "                    selectors[s] = district\n",
    "                except StaleElementReferenceException:\n",
    "                    try:\n",
    "                        time.sleep(0.5)\n",
    "\n",
    "                        districtList = UI.Select(driver.find_element_by_id(\"districtId\"))\n",
    "\n",
    "                        for option in districtList.options:\n",
    "\n",
    "                            district.append(option.text)\n",
    "                        selectors[s] = district\n",
    "                    except StaleElementReferenceException:\n",
    "                        try:\n",
    "                            time.sleep(0.5)\n",
    "\n",
    "                            districtList = UI.Select(driver.find_element_by_id(\"districtId\"))\n",
    "\n",
    "                            for option in districtList.options:\n",
    "\n",
    "                                district.append(option.text)\n",
    "                            selectors[s] = district\n",
    "                        except StaleElementReferenceException:\n",
    "                            time.sleep(2)\n",
    "\n",
    "                            districtList = UI.Select(driver.find_element_by_id(\"districtId\"))\n",
    "\n",
    "                            for option in districtList.options:\n",
    "\n",
    "                                district.append(option.text)\n",
    "                            selectors[s] = district\n",
    "    \n",
    "#     districtList = UI.Select(driver.find_element_by_id(\"districtId\"))\n",
    "    \n",
    "#     for option in districtList.options:\n",
    "        \n",
    "#         district.append(option.text)\n",
    "#     selectors[s] = district"
   ]
  },
  {
   "cell_type": "code",
   "execution_count": 4,
   "metadata": {},
   "outputs": [],
   "source": [
    "selectors = json.dumps(selectors)\n",
    "selectors = json.loads(selectors)\n",
    "with open('selectors.json', 'w') as outfile:  \n",
    "    json.dump(selectors, outfile, indent=4)"
   ]
  },
  {
   "cell_type": "code",
   "execution_count": 5,
   "metadata": {},
   "outputs": [],
   "source": [
    "# resultFile = open(\"Sectors.csv\",'w')\n",
    "# wr = csv.writer(resultFile)\n",
    "# wr.writerows([sectors])"
   ]
  },
  {
   "cell_type": "code",
   "execution_count": 6,
   "metadata": {
    "collapsed": true
   },
   "outputs": [],
   "source": [
    "driver.quit()"
   ]
  },
  {
   "cell_type": "code",
   "execution_count": 8,
   "metadata": {},
   "outputs": [
    {
     "ename": "TimeoutException",
     "evalue": "Message: \n",
     "output_type": "error",
     "traceback": [
      "\u001b[0;31m---------------------------------------------------------------------------\u001b[0m",
      "\u001b[0;31mTimeoutException\u001b[0m                          Traceback (most recent call last)",
      "\u001b[0;32m<ipython-input-8-6c140fdd8a83>\u001b[0m in \u001b[0;36m<module>\u001b[0;34m()\u001b[0m\n\u001b[1;32m      8\u001b[0m \u001b[0;32mtry\u001b[0m\u001b[0;34m:\u001b[0m\u001b[0;34m\u001b[0m\u001b[0m\n\u001b[1;32m      9\u001b[0m     element = WebDriverWait(driver, 10).until(\n\u001b[0;32m---> 10\u001b[0;31m         \u001b[0mEC\u001b[0m\u001b[0;34m.\u001b[0m\u001b[0mpresence_of_element_located\u001b[0m\u001b[0;34m(\u001b[0m\u001b[0;34m(\u001b[0m\u001b[0mBy\u001b[0m\u001b[0;34m.\u001b[0m\u001b[0mID\u001b[0m\u001b[0;34m,\u001b[0m \u001b[0;34m\"myDynamicElement\"\u001b[0m\u001b[0;34m)\u001b[0m\u001b[0;34m)\u001b[0m\u001b[0;34m\u001b[0m\u001b[0m\n\u001b[0m\u001b[1;32m     11\u001b[0m     )\n\u001b[1;32m     12\u001b[0m \u001b[0;32mfinally\u001b[0m\u001b[0;34m:\u001b[0m\u001b[0;34m\u001b[0m\u001b[0m\n",
      "\u001b[0;32m~/anaconda3/lib/python3.6/site-packages/selenium/webdriver/support/wait.py\u001b[0m in \u001b[0;36muntil\u001b[0;34m(self, method, message)\u001b[0m\n\u001b[1;32m     78\u001b[0m             \u001b[0;32mif\u001b[0m \u001b[0mtime\u001b[0m\u001b[0;34m.\u001b[0m\u001b[0mtime\u001b[0m\u001b[0;34m(\u001b[0m\u001b[0;34m)\u001b[0m \u001b[0;34m>\u001b[0m \u001b[0mend_time\u001b[0m\u001b[0;34m:\u001b[0m\u001b[0;34m\u001b[0m\u001b[0m\n\u001b[1;32m     79\u001b[0m                 \u001b[0;32mbreak\u001b[0m\u001b[0;34m\u001b[0m\u001b[0m\n\u001b[0;32m---> 80\u001b[0;31m         \u001b[0;32mraise\u001b[0m \u001b[0mTimeoutException\u001b[0m\u001b[0;34m(\u001b[0m\u001b[0mmessage\u001b[0m\u001b[0;34m,\u001b[0m \u001b[0mscreen\u001b[0m\u001b[0;34m,\u001b[0m \u001b[0mstacktrace\u001b[0m\u001b[0;34m)\u001b[0m\u001b[0;34m\u001b[0m\u001b[0m\n\u001b[0m\u001b[1;32m     81\u001b[0m \u001b[0;34m\u001b[0m\u001b[0m\n\u001b[1;32m     82\u001b[0m     \u001b[0;32mdef\u001b[0m \u001b[0muntil_not\u001b[0m\u001b[0;34m(\u001b[0m\u001b[0mself\u001b[0m\u001b[0;34m,\u001b[0m \u001b[0mmethod\u001b[0m\u001b[0;34m,\u001b[0m \u001b[0mmessage\u001b[0m\u001b[0;34m=\u001b[0m\u001b[0;34m''\u001b[0m\u001b[0;34m)\u001b[0m\u001b[0;34m:\u001b[0m\u001b[0;34m\u001b[0m\u001b[0m\n",
      "\u001b[0;31mTimeoutException\u001b[0m: Message: \n"
     ]
    }
   ],
   "source": [
    "from selenium import webdriver\n",
    "from selenium.webdriver.common.by import By\n",
    "from selenium.webdriver.support.ui import WebDriverWait\n",
    "from selenium.webdriver.support import expected_conditions as EC\n",
    "\n",
    "driver = webdriver.Chrome()\n",
    "driver.get(\"http://facebook.com\")\n",
    "try:\n",
    "    element = WebDriverWait(driver, 10).until(\n",
    "        EC.presence_of_element_located((By.ID, \"myDynamicElement\"))\n",
    "    )\n",
    "finally:\n",
    "    driver.quit()"
   ]
  },
  {
   "cell_type": "code",
   "execution_count": null,
   "metadata": {
    "collapsed": true
   },
   "outputs": [],
   "source": []
  }
 ],
 "metadata": {
  "kernelspec": {
   "display_name": "Python 3",
   "language": "python",
   "name": "python3"
  },
  "language_info": {
   "codemirror_mode": {
    "name": "ipython",
    "version": 3
   },
   "file_extension": ".py",
   "mimetype": "text/x-python",
   "name": "python",
   "nbconvert_exporter": "python",
   "pygments_lexer": "ipython3",
   "version": "3.6.1"
  }
 },
 "nbformat": 4,
 "nbformat_minor": 2
}
